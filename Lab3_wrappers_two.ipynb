{
 "cells": [
  {
   "cell_type": "markdown",
   "id": "bf3fa0f4",
   "metadata": {},
   "source": [
    "# Lab3_wrappers_second attempt"
   ]
  },
  {
   "cell_type": "code",
   "execution_count": 3,
   "id": "e7e4527d",
   "metadata": {},
   "outputs": [],
   "source": [
    "import spotipy\n",
    "from spotipy.oauth2 import SpotifyClientCredentials\n",
    "import pandas as pd\n",
    "import getpass"
   ]
  },
  {
   "cell_type": "code",
   "execution_count": 4,
   "id": "5eeeefa9",
   "metadata": {},
   "outputs": [
    {
     "name": "stdout",
     "output_type": "stream",
     "text": [
      "client_id?········\n"
     ]
    }
   ],
   "source": [
    "client_id = str(getpass.getpass('client_id?'))"
   ]
  },
  {
   "cell_type": "code",
   "execution_count": 5,
   "id": "7c6d5f00",
   "metadata": {},
   "outputs": [
    {
     "name": "stdout",
     "output_type": "stream",
     "text": [
      "client_secret?········\n"
     ]
    }
   ],
   "source": [
    "client_secret = str(getpass.getpass('client_secret?'))"
   ]
  },
  {
   "cell_type": "code",
   "execution_count": 11,
   "id": "db30cad6",
   "metadata": {},
   "outputs": [],
   "source": [
    "sp = spotipy.Spotify(auth_manager=SpotifyClientCredentials(client_id=\"2618ccc9619a43d4bc75746578e77f93\",\n",
    "                                                           client_secret=\"4adea0a95cff4a43adaba95a1451bff5\"))"
   ]
  },
  {
   "cell_type": "code",
   "execution_count": 12,
   "id": "09412118",
   "metadata": {},
   "outputs": [],
   "source": [
    "playlist2 = sp.user_playlist_tracks(\"Spotify\", \"37i9dQZF1DX6KItbiYYmAv\")"
   ]
  },
  {
   "cell_type": "code",
   "execution_count": 18,
   "id": "befcb608",
   "metadata": {},
   "outputs": [
    {
     "data": {
      "text/plain": [
       "100"
      ]
     },
     "execution_count": 18,
     "metadata": {},
     "output_type": "execute_result"
    }
   ],
   "source": [
    "len(playlist2['items'])"
   ]
  },
  {
   "cell_type": "code",
   "execution_count": 26,
   "id": "c06ad867",
   "metadata": {},
   "outputs": [
    {
     "name": "stdout",
     "output_type": "stream",
     "text": [
      "3w4hSYOCUcsfk86JcjkO1a\n",
      "7dElKXggb1TtQ2RyzVOYJH\n",
      "5udBOLdQ7AySsIQ8Erv3XS\n",
      "7vhfdOcKeIIXl82diSh3vZ\n",
      "18ZK9RiSZdZVTkzVFw0yin\n",
      "2VV2bUDMP4sWx1500SBaq4\n",
      "5sMoexY5YpR0frj2ZAketD\n",
      "34hMOtKwf5nm8tjvkGV0Dk\n",
      "0kBIf10ovrGvEPQ5sP0nB3\n",
      "41lqGsXFhFnno7r9MkaXtK\n",
      "50LqU2nhdE3fmWOuqOjpjz\n",
      "0WeqauIUZSjsupDGXsXWsP\n",
      "6QPqf4WqwZkxM68bGipzvP\n",
      "1MR973dbFeo6FPNUDMRWLg\n",
      "1vNfYCzcCJz0FY7MVVA9lM\n",
      "7qH9Z4dJEN0l9bidizW7fq\n",
      "4w7sZkcNTSSHMIVQZdIJHu\n",
      "5KuYbBvUEqRADgjFg9W66m\n",
      "57ct8jKi6trntXiRV0NnXi\n",
      "6aVjoOuDQV65LxinwWiig4\n",
      "1DQNVgiwErsbcg4Li7VLGF\n",
      "46EuzanXhKwIc7755wLAvS\n",
      "4tAg6TZwDKBg92Yt7YuLuf\n",
      "7ypTNbCdGEv55Kjz5TfY8P\n",
      "2qVGmHSlfAhGZJifXVNwUI\n",
      "7KIXAzdiG2Pae7spgsklZo\n",
      "2Pr1nZpt8A8WP7QYpyq6L3\n",
      "0LtliXTRs1Ih2JGi3DW9Ts\n",
      "6WQlGuh6c4jciXEyM2rVGX\n",
      "5rwq6R0Uq0BngM3rdmCeNg\n",
      "3wm0791j8FPkG7RUYljgr8\n",
      "2aniiMAbFXjyUPPg3wpDpo\n",
      "3HUCTp20rxqMnCtdyU7JgU\n",
      "0IACKZaeCAQFs6EgLZvtZQ\n",
      "0yKK9to5WLMT35x8dRU1W5\n",
      "5YAhKEMTGMh6SxTSYcUJl6\n",
      "1j0ERvVFvw6Rj08mC1JzRC\n",
      "7FCYixd46BlSiO2memrsPo\n",
      "2VUjaisIsYOXaajDPlfVLT\n",
      "2HyvRCnFAX65gKsxwyPV5O\n",
      "68wibJU4yMiqNX79IaLAsN\n",
      "4axv2DlkRK7e4n4STim5Dd\n",
      "2VubdIP4aipC2d0bwkCgg5\n",
      "3adPvNljHYlq3AejPnIbwX\n",
      "4VrUT6GeeSRz6MB8tWJSHM\n",
      "4kzcJJUonbCSlNXrHXt6n8\n",
      "4yxL6eoSsZ04lN0VezKgcr\n",
      "1wOp8sjR26NOSmc64JUMBE\n",
      "38FQraRX0lVQtL7mHOHz8b\n",
      "3Qjd6f44AaaYjCGUoThELh\n",
      "0hcUhN7Ru7b55S0w5DqzZ7\n",
      "3ht2zKr3aD2SjulMOdTzQ1\n",
      "4gFakkHz0RjUrbf9Ufilb7\n",
      "5ksHNBHuDxVv39of6VgQxC\n",
      "3G9ETaH55bMQx8hwNhAgbU\n",
      "5hkb78xguoXfpbIPkiHlFb\n",
      "04TvtzVrd7FufnY5KJLXzO\n",
      "2g4Q6o0p7PIWAdkxtKVvVi\n",
      "0YVaaynLiwkQmWphlG3XqT\n",
      "5dcfP0DYH5SDeizgbHZop6\n",
      "7qlfcOvjn5jjFw35y2lEWv\n",
      "7Kjh6A5voYQ1rFFnYEbYq6\n",
      "1IOg3j2hw2Ni9nD4QZA7qJ\n",
      "0HFBVwKtD5kBrQQseDwagJ\n",
      "1vvbpR1g9LPahWnrvFSGfj\n",
      "25aMcOH9KVYjllvlupKyJj\n",
      "6ApwZihCRa4tSxasbH0fxH\n",
      "1Exrzr80BmEOw2rMcRnjwh\n",
      "5OiaAaIMYlCZONyDBxqk4G\n",
      "6mVndIOMk620iAtXeMi4kW\n",
      "4q9itBfSlTvqZLGVIdjKuk\n",
      "3TdZbELsPLWYZAArGSfwyQ\n",
      "4SEgyVuHzincvWDvypjasT\n",
      "7eD0gs77mhlYRiTRI7IFf6\n",
      "14WxdK01IyDl3bumvqufxH\n",
      "4IEQtgcG6Iq8mIBVFRK8Mk\n",
      "7yWcDUgTm9RLNxjPPHXVxp\n",
      "7IDFA9pgAOgGzI4RwXjwok\n",
      "6LK4QAJzm6wPWITxSftVhG\n",
      "4piJ8pnoRvC5sqMEpbH0FA\n",
      "6FyEn4iXp48x4cJgX5yCH9\n",
      "0lp0bQqzyLmNNHHFYRaaJf\n",
      "3Kj2EWpIBnvETsYq4cq0IH\n",
      "2BVyCBKJYlSdxic0yVpJ9C\n",
      "3uJhF1XGOJ27hweKEeBOtk\n",
      "4YEoimxmDNIwTDaG6jZmcg\n",
      "75zBbNqBhPjsMd8UY3k5B7\n",
      "4aeUbM8kMPu3tWuHmS3f2P\n",
      "7f34NzgqC100aAxrtwurEi\n",
      "53Vw7v94FVkxUBbLAdj74i\n",
      "3pC8tUjIZPORslYYmJbJcz\n",
      "7jEVW8o2CIfdgziEJXnii8\n",
      "3y4uSQwxHckyRcvafEilkN\n",
      "05DjGdZSV6nEeUkd78afBO\n",
      "2iYyfatby6okD9aUxZB2jU\n",
      "4j1qgmRVqhFANilbZ70bft\n",
      "0sgwGZCmkAS8o9EetyLX0E\n",
      "5Z8onMr6EW2eNDamrDoWi5\n",
      "474nHoHfkz1BqEsv54QNec\n",
      "0WmYMaZFDs6qsPzpnEXRM5\n"
     ]
    }
   ],
   "source": [
    "playlist2['items'][0]['track']['id']\n",
    "\n",
    "for item in playlist2['items']:\n",
    "    print(item['track']['id'])\n",
    "\n",
    "hot_acoustics = []\n",
    "for item in playlist2['items']:\n",
    "    hot_acoustics.append(item['track']['id'])"
   ]
  },
  {
   "cell_type": "code",
   "execution_count": null,
   "id": "31d500c9",
   "metadata": {},
   "outputs": [],
   "source": []
  }
 ],
 "metadata": {
  "kernelspec": {
   "display_name": "Python 3",
   "language": "python",
   "name": "python3"
  },
  "language_info": {
   "codemirror_mode": {
    "name": "ipython",
    "version": 3
   },
   "file_extension": ".py",
   "mimetype": "text/x-python",
   "name": "python",
   "nbconvert_exporter": "python",
   "pygments_lexer": "ipython3",
   "version": "3.9.2"
  }
 },
 "nbformat": 4,
 "nbformat_minor": 5
}
