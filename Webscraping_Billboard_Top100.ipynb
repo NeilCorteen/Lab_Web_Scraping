{
 "cells": [
  {
   "cell_type": "markdown",
   "id": "2fd6fbc9",
   "metadata": {},
   "source": [
    "# Webscraping Billboard Top 100"
   ]
  },
  {
   "cell_type": "code",
   "execution_count": 94,
   "id": "3cdb2bc3",
   "metadata": {},
   "outputs": [],
   "source": [
    "from bs4 import BeautifulSoup \n",
    "import requests \n",
    "import pandas as pd"
   ]
  },
  {
   "cell_type": "code",
   "execution_count": 95,
   "id": "595ac727",
   "metadata": {},
   "outputs": [],
   "source": [
    "url=\"https://www.billboard.com/charts/hot-100\""
   ]
  },
  {
   "cell_type": "code",
   "execution_count": 96,
   "id": "1e8fae0d",
   "metadata": {},
   "outputs": [],
   "source": [
    "response = requests.get(url)"
   ]
  },
  {
   "cell_type": "code",
   "execution_count": 97,
   "id": "57635f00",
   "metadata": {},
   "outputs": [
    {
     "data": {
      "text/plain": [
       "200"
      ]
     },
     "execution_count": 97,
     "metadata": {},
     "output_type": "execute_result"
    }
   ],
   "source": [
    "response.status_code"
   ]
  },
  {
   "cell_type": "code",
   "execution_count": 98,
   "id": "c4712a7a",
   "metadata": {},
   "outputs": [],
   "source": [
    "soup=BeautifulSoup(response.content, 'html.parser')"
   ]
  },
  {
   "cell_type": "code",
   "execution_count": 99,
   "id": "1ce4b7c4",
   "metadata": {},
   "outputs": [],
   "source": [
    "songs=soup.select(\"charts > div > div.chart-list__wrapper\")"
   ]
  },
  {
   "cell_type": "code",
   "execution_count": 139,
   "id": "705a8058",
   "metadata": {},
   "outputs": [
    {
     "data": {
      "text/plain": [
       "'Save Your Tears'"
      ]
     },
     "execution_count": 139,
     "metadata": {},
     "output_type": "execute_result"
    }
   ],
   "source": [
    "soup.select(\"span.chart-element__information__song\")[0].text"
   ]
  },
  {
   "cell_type": "code",
   "execution_count": 101,
   "id": "cb768ec8",
   "metadata": {},
   "outputs": [
    {
     "data": {
      "text/plain": [
       "[<span class=\"chart-element__information__song text--truncate color--primary\">Save Your Tears</span>,\n",
       " <span class=\"chart-element__information__song text--truncate color--primary\">Leave The Door Open</span>,\n",
       " <span class=\"chart-element__information__song text--truncate color--primary\">Peaches</span>,\n",
       " <span class=\"chart-element__information__song text--truncate color--primary\">Rapstar</span>,\n",
       " <span class=\"chart-element__information__song text--truncate color--primary\">Levitating</span>,\n",
       " <span class=\"chart-element__information__song text--truncate color--primary\">Kiss Me More</span>,\n",
       " <span class=\"chart-element__information__song text--truncate color--primary\">Montero (Call Me By Your Name)</span>,\n",
       " <span class=\"chart-element__information__song text--truncate color--primary\">Astronaut In The Ocean</span>,\n",
       " <span class=\"chart-element__information__song text--truncate color--primary\">Up</span>,\n",
       " <span class=\"chart-element__information__song text--truncate color--primary\">Drivers License</span>,\n",
       " <span class=\"chart-element__information__song text--truncate color--primary\">Blinding Lights</span>,\n",
       " <span class=\"chart-element__information__song text--truncate color--primary\">Deja Vu</span>,\n",
       " <span class=\"chart-element__information__song text--truncate color--primary\">Beat Box</span>,\n",
       " <span class=\"chart-element__information__song text--truncate color--primary\">Calling My Phone</span>,\n",
       " <span class=\"chart-element__information__song text--truncate color--primary\">On Me</span>,\n",
       " <span class=\"chart-element__information__song text--truncate color--primary\">Best Friend</span>,\n",
       " <span class=\"chart-element__information__song text--truncate color--primary\">Heartbreak Anniversary</span>,\n",
       " <span class=\"chart-element__information__song text--truncate color--primary\">Beautiful Mistakes</span>,\n",
       " <span class=\"chart-element__information__song text--truncate color--primary\">What You Know Bout Love</span>,\n",
       " <span class=\"chart-element__information__song text--truncate color--primary\">Mood</span>,\n",
       " <span class=\"chart-element__information__song text--truncate color--primary\">My Ex's Best Friend</span>,\n",
       " <span class=\"chart-element__information__song text--truncate color--primary\">Back In Blood</span>,\n",
       " <span class=\"chart-element__information__song text--truncate color--primary\">Without You</span>,\n",
       " <span class=\"chart-element__information__song text--truncate color--primary\">The Good Ones</span>,\n",
       " <span class=\"chart-element__information__song text--truncate color--primary\">Go Crazy</span>,\n",
       " <span class=\"chart-element__information__song text--truncate color--primary\">You Broke Me First.</span>,\n",
       " <span class=\"chart-element__information__song text--truncate color--primary\">34+35</span>,\n",
       " <span class=\"chart-element__information__song text--truncate color--primary\">Hell Of A View</span>,\n",
       " <span class=\"chart-element__information__song text--truncate color--primary\">Forever After All</span>,\n",
       " <span class=\"chart-element__information__song text--truncate color--primary\">What's Next</span>,\n",
       " <span class=\"chart-element__information__song text--truncate color--primary\">Time Today</span>,\n",
       " <span class=\"chart-element__information__song text--truncate color--primary\">Therefore I Am</span>,\n",
       " <span class=\"chart-element__information__song text--truncate color--primary\">Dakiti</span>,\n",
       " <span class=\"chart-element__information__song text--truncate color--primary\">Positions</span>,\n",
       " <span class=\"chart-element__information__song text--truncate color--primary\">Shottas (Lala)</span>,\n",
       " <span class=\"chart-element__information__song text--truncate color--primary\">Solid</span>,\n",
       " <span class=\"chart-element__information__song text--truncate color--primary\">Track Star</span>,\n",
       " <span class=\"chart-element__information__song text--truncate color--primary\">Ski</span>,\n",
       " <span class=\"chart-element__information__song text--truncate color--primary\">Wants And Needs</span>,\n",
       " <span class=\"chart-element__information__song text--truncate color--primary\">You're Mines Still</span>,\n",
       " <span class=\"chart-element__information__song text--truncate color--primary\">We're Good</span>,\n",
       " <span class=\"chart-element__information__song text--truncate color--primary\">Heat Waves</span>,\n",
       " <span class=\"chart-element__information__song text--truncate color--primary\">Made For You</span>,\n",
       " <span class=\"chart-element__information__song text--truncate color--primary\">Good Days</span>,\n",
       " <span class=\"chart-element__information__song text--truncate color--primary\">For The Night</span>,\n",
       " <span class=\"chart-element__information__song text--truncate color--primary\">Breaking Up Was Easy In The 90's</span>,\n",
       " <span class=\"chart-element__information__song text--truncate color--primary\">No More Parties</span>,\n",
       " <span class=\"chart-element__information__song text--truncate color--primary\">Goosebumps</span>,\n",
       " <span class=\"chart-element__information__song text--truncate color--primary\">Telepatia</span>,\n",
       " <span class=\"chart-element__information__song text--truncate color--primary\">Tombstone</span>,\n",
       " <span class=\"chart-element__information__song text--truncate color--primary\">Streets</span>,\n",
       " <span class=\"chart-element__information__song text--truncate color--primary\">Go!</span>,\n",
       " <span class=\"chart-element__information__song text--truncate color--primary\">Hard For The Next</span>,\n",
       " <span class=\"chart-element__information__song text--truncate color--primary\">If Pain Was A Person</span>,\n",
       " <span class=\"chart-element__information__song text--truncate color--primary\">What's Your Country Song</span>,\n",
       " <span class=\"chart-element__information__song text--truncate color--primary\">Just The Way</span>,\n",
       " <span class=\"chart-element__information__song text--truncate color--primary\">Hold On</span>,\n",
       " <span class=\"chart-element__information__song text--truncate color--primary\">Settling Down</span>,\n",
       " <span class=\"chart-element__information__song text--truncate color--primary\">Wockesha</span>,\n",
       " <span class=\"chart-element__information__song text--truncate color--primary\">Botella Tras Botella</span>,\n",
       " <span class=\"chart-element__information__song text--truncate color--primary\">Willow</span>,\n",
       " <span class=\"chart-element__information__song text--truncate color--primary\">Damage</span>,\n",
       " <span class=\"chart-element__information__song text--truncate color--primary\">Street Runner</span>,\n",
       " <span class=\"chart-element__information__song text--truncate color--primary\">Come Through</span>,\n",
       " <span class=\"chart-element__information__song text--truncate color--primary\">Somebody Like That</span>,\n",
       " <span class=\"chart-element__information__song text--truncate color--primary\">pov</span>,\n",
       " <span class=\"chart-element__information__song text--truncate color--primary\">Lil Bit</span>,\n",
       " <span class=\"chart-element__information__song text--truncate color--primary\">Gone</span>,\n",
       " <span class=\"chart-element__information__song text--truncate color--primary\">Nobody</span>,\n",
       " <span class=\"chart-element__information__song text--truncate color--primary\">Famous Friends</span>,\n",
       " <span class=\"chart-element__information__song text--truncate color--primary\">Quicksand</span>,\n",
       " <span class=\"chart-element__information__song text--truncate color--primary\">Lady</span>,\n",
       " <span class=\"chart-element__information__song text--truncate color--primary\">The Business</span>,\n",
       " <span class=\"chart-element__information__song text--truncate color--primary\">La Noche de Anoche</span>,\n",
       " <span class=\"chart-element__information__song text--truncate color--primary\">One Too Many</span>,\n",
       " <span class=\"chart-element__information__song text--truncate color--primary\">Richer</span>,\n",
       " <span class=\"chart-element__information__song text--truncate color--primary\">Almost Maybes</span>,\n",
       " <span class=\"chart-element__information__song text--truncate color--primary\">Follow You</span>,\n",
       " <span class=\"chart-element__information__song text--truncate color--primary\">Glad You Exist</span>,\n",
       " <span class=\"chart-element__information__song text--truncate color--primary\">Free Promo</span>,\n",
       " <span class=\"chart-element__information__song text--truncate color--primary\">Pick Up Your Feelings</span>,\n",
       " <span class=\"chart-element__information__song text--truncate color--primary\">Just Say Det</span>,\n",
       " <span class=\"chart-element__information__song text--truncate color--primary\">Big Gangsta</span>,\n",
       " <span class=\"chart-element__information__song text--truncate color--primary\">Down To One</span>,\n",
       " <span class=\"chart-element__information__song text--truncate color--primary\">Headshot</span>,\n",
       " <span class=\"chart-element__information__song text--truncate color--primary\">Hellcats &amp; Trackhawks</span>,\n",
       " <span class=\"chart-element__information__song text--truncate color--primary\">Anyone</span>,\n",
       " <span class=\"chart-element__information__song text--truncate color--primary\">My Head And My Heart</span>,\n",
       " <span class=\"chart-element__information__song text--truncate color--primary\">How They Remember You</span>,\n",
       " <span class=\"chart-element__information__song text--truncate color--primary\">Arcade</span>,\n",
       " <span class=\"chart-element__information__song text--truncate color--primary\">Drunk (And I Don't Wanna Go Home)</span>,\n",
       " <span class=\"chart-element__information__song text--truncate color--primary\">Masterpiece</span>,\n",
       " <span class=\"chart-element__information__song text--truncate color--primary\">Long Live</span>,\n",
       " <span class=\"chart-element__information__song text--truncate color--primary\">Chasing After You</span>,\n",
       " <span class=\"chart-element__information__song text--truncate color--primary\">Drankin N Smokin</span>,\n",
       " <span class=\"chart-element__information__song text--truncate color--primary\">4 Da Gang</span>,\n",
       " <span class=\"chart-element__information__song text--truncate color--primary\">Blame It On You</span>,\n",
       " <span class=\"chart-element__information__song text--truncate color--primary\">Wasted On You</span>,\n",
       " <span class=\"chart-element__information__song text--truncate color--primary\">Way Less Sad</span>,\n",
       " <span class=\"chart-element__information__song text--truncate color--primary\">Clear Da Air</span>]"
      ]
     },
     "execution_count": 101,
     "metadata": {},
     "output_type": "execute_result"
    }
   ],
   "source": [
    "soup.select(\"span.chart-element__information__song\")"
   ]
  },
  {
   "cell_type": "code",
   "execution_count": 102,
   "id": "14ab6aeb",
   "metadata": {},
   "outputs": [],
   "source": [
    "#songs = soup.find_all(\"span\", class_=\"chart-element__information\")"
   ]
  },
  {
   "cell_type": "code",
   "execution_count": 116,
   "id": "4e23984a",
   "metadata": {},
   "outputs": [],
   "source": [
    "songs = soup.find_all(\"span\", class_=\"chart-element__information__song text--truncate color--primary\")"
   ]
  },
  {
   "cell_type": "code",
   "execution_count": 104,
   "id": "1539eab0",
   "metadata": {},
   "outputs": [],
   "source": [
    "#artists = soup.find_all(\"span\", class_=\"chart-element__information\")"
   ]
  },
  {
   "cell_type": "code",
   "execution_count": 117,
   "id": "a48d653d",
   "metadata": {},
   "outputs": [],
   "source": [
    "artists = soup.find_all(\"span\", class_=\"chart-element__information__artist text--truncate color--secondary\")"
   ]
  },
  {
   "cell_type": "code",
   "execution_count": 111,
   "id": "f269ce99",
   "metadata": {},
   "outputs": [],
   "source": [
    " #ranking = soup.find_all(\"span\", class_= \"chart-element__meta text\")"
   ]
  },
  {
   "cell_type": "code",
   "execution_count": 118,
   "id": "f40a3d86",
   "metadata": {},
   "outputs": [],
   "source": [
    "peak_ranking = soup.find_all(\"span\", class_= \"chart-element__meta text--center color--secondary text--peak\")"
   ]
  },
  {
   "cell_type": "code",
   "execution_count": 119,
   "id": "74fdb39f",
   "metadata": {},
   "outputs": [],
   "source": [
    " for i in [songs, artists, peak_ranking]:\n",
    "        for j in range(len(i)):\n",
    "            i[j] = i[j].getText()"
   ]
  },
  {
   "cell_type": "code",
   "execution_count": 135,
   "id": "eba6b98e",
   "metadata": {},
   "outputs": [],
   "source": [
    " hot100 = pd.DataFrame(\n",
    "        {\"name of song\": songs,\n",
    "         \"name of artist\": artists,\n",
    "         \"peak ranking\": peak_ranking})"
   ]
  },
  {
   "cell_type": "code",
   "execution_count": 136,
   "id": "4f0d435e",
   "metadata": {},
   "outputs": [
    {
     "data": {
      "text/html": [
       "<div>\n",
       "<style scoped>\n",
       "    .dataframe tbody tr th:only-of-type {\n",
       "        vertical-align: middle;\n",
       "    }\n",
       "\n",
       "    .dataframe tbody tr th {\n",
       "        vertical-align: top;\n",
       "    }\n",
       "\n",
       "    .dataframe thead th {\n",
       "        text-align: right;\n",
       "    }\n",
       "</style>\n",
       "<table border=\"1\" class=\"dataframe\">\n",
       "  <thead>\n",
       "    <tr style=\"text-align: right;\">\n",
       "      <th></th>\n",
       "      <th>name of song</th>\n",
       "      <th>name of artist</th>\n",
       "      <th>peak ranking</th>\n",
       "    </tr>\n",
       "  </thead>\n",
       "  <tbody>\n",
       "    <tr>\n",
       "      <th>0</th>\n",
       "      <td>Save Your Tears</td>\n",
       "      <td>The Weeknd &amp; Ariana Grande</td>\n",
       "      <td>1</td>\n",
       "    </tr>\n",
       "    <tr>\n",
       "      <th>1</th>\n",
       "      <td>Leave The Door Open</td>\n",
       "      <td>Silk Sonic (Bruno Mars &amp; Anderson .Paak)</td>\n",
       "      <td>1</td>\n",
       "    </tr>\n",
       "    <tr>\n",
       "      <th>2</th>\n",
       "      <td>Peaches</td>\n",
       "      <td>Justin Bieber Featuring Daniel Caesar &amp; Giveon</td>\n",
       "      <td>1</td>\n",
       "    </tr>\n",
       "    <tr>\n",
       "      <th>3</th>\n",
       "      <td>Rapstar</td>\n",
       "      <td>Polo G</td>\n",
       "      <td>1</td>\n",
       "    </tr>\n",
       "    <tr>\n",
       "      <th>4</th>\n",
       "      <td>Levitating</td>\n",
       "      <td>Dua Lipa Featuring DaBaby</td>\n",
       "      <td>5</td>\n",
       "    </tr>\n",
       "  </tbody>\n",
       "</table>\n",
       "</div>"
      ],
      "text/plain": [
       "          name of song                                  name of artist  \\\n",
       "0      Save Your Tears                      The Weeknd & Ariana Grande   \n",
       "1  Leave The Door Open        Silk Sonic (Bruno Mars & Anderson .Paak)   \n",
       "2              Peaches  Justin Bieber Featuring Daniel Caesar & Giveon   \n",
       "3              Rapstar                                          Polo G   \n",
       "4           Levitating                       Dua Lipa Featuring DaBaby   \n",
       "\n",
       "  peak ranking  \n",
       "0            1  \n",
       "1            1  \n",
       "2            1  \n",
       "3            1  \n",
       "4            5  "
      ]
     },
     "execution_count": 136,
     "metadata": {},
     "output_type": "execute_result"
    }
   ],
   "source": [
    "hot100.head()"
   ]
  },
  {
   "cell_type": "code",
   "execution_count": 137,
   "id": "d3c2fe73",
   "metadata": {},
   "outputs": [],
   "source": [
    "hot100.to_csv('song_list_top100.csv')"
   ]
  },
  {
   "cell_type": "code",
   "execution_count": null,
   "id": "24b57d54",
   "metadata": {},
   "outputs": [],
   "source": []
  }
 ],
 "metadata": {
  "kernelspec": {
   "display_name": "Python 3",
   "language": "python",
   "name": "python3"
  },
  "language_info": {
   "codemirror_mode": {
    "name": "ipython",
    "version": 3
   },
   "file_extension": ".py",
   "mimetype": "text/x-python",
   "name": "python",
   "nbconvert_exporter": "python",
   "pygments_lexer": "ipython3",
   "version": "3.9.2"
  }
 },
 "nbformat": 4,
 "nbformat_minor": 5
}
