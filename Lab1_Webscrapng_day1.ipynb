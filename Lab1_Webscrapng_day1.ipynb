{
 "cells": [
  {
   "cell_type": "markdown",
   "id": "e7b360e0",
   "metadata": {},
   "source": [
    "# Week7 Day1 Lab_Webscraping"
   ]
  },
  {
   "cell_type": "code",
   "execution_count": 7,
   "id": "6c3a5806",
   "metadata": {},
   "outputs": [],
   "source": [
    "#importing libraries\n",
    "from bs4 import BeautifulSoup\n",
    "import requests\n",
    "import pandas as pd\n",
    "\n",
    "#connecting to url\n",
    "url = \"https://www.billboard.com/charts/hot-100\"\n",
    "response = requests.get(url) #retrieving the HTML code"
   ]
  },
  {
   "cell_type": "code",
   "execution_count": 8,
   "id": "0e3944ca",
   "metadata": {},
   "outputs": [
    {
     "data": {
      "text/plain": [
       "200"
      ]
     },
     "execution_count": 8,
     "metadata": {},
     "output_type": "execute_result"
    }
   ],
   "source": [
    "response.status_code #testing connection \n",
    "#200 means connection is ok (all codes here: https://en.wikipedia.org/wiki/List_of_HTTP_status_codes)"
   ]
  },
  {
   "cell_type": "code",
   "execution_count": 9,
   "id": "4cdf1c83",
   "metadata": {},
   "outputs": [],
   "source": [
    "soup = BeautifulSoup(response.content, 'html.parser') \n",
    "# parsing is simply reading the data in a format, here HTML and translating it so it can be read by Python."
   ]
  },
  {
   "cell_type": "markdown",
   "id": "c404929c",
   "metadata": {},
   "source": [
    "### Short review of using Beautiful Soup with HTML"
   ]
  },
  {
   "cell_type": "code",
   "execution_count": 13,
   "id": "18374a8d",
   "metadata": {},
   "outputs": [
    {
     "data": {
      "text/plain": [
       "<head>\n",
       "<meta charset=\"utf-8\"/>\n",
       "<meta content=\"IE=edge\" http-equiv=\"X-UA-Compatible\"/>\n",
       "<meta content=\"width=device-width, initial-scale=1, user-scalable=no\" name=\"viewport\"/>\n",
       "<title>The Hot 100 Chart | Billboard</title>\n",
       "<meta content=\"The Hot 100 Chart\" name=\"title\" property=\"title\">\n",
       "<meta content=\"@billboard\" name=\"twitter:site\"/>\n",
       "<meta content=\"Billboard\" property=\"og:site_name\">\n",
       "<meta content=\"article\" property=\"og:type\">\n",
       "<link href=\"/manifest.json\" rel=\"manifest\"/>\n",
       "<style>\n",
       "        .chart-pro-access {\n",
       "            background-image: url('https://www.billboard.com/assets/1620152677/images/piano/chart-pro-access-mb.png?41a3123da54599a0d66b');\n",
       "        }\n",
       "\n",
       "        @media (min-width: 769px) {\n",
       "            .chart-pro-access {\n",
       "                background-image: url('https://www.billboard.com/assets/1620152677/images/piano/chart-pro-access-dk.png?41a3123da54599a0d66b');\n",
       "            }\n",
       "        }\n",
       "    </style>\n",
       "<script async=\"async\" data-cfasync=\"false\" src=\"https://ads.blogherads.com/sk/00/000/00000/27600/header.js\" type=\"text/javascript\"></script>\n",
       "<link href=\"/charts/hot-100\" rel=\"canonical\"/>\n",
       "<link href=\"https://www.billboard.com/assets/1620152677/images/favicon.ico?41a3123da54599a0d66b\" rel=\"shortcut icon\" type=\"image/vnd.microsoft.icon\">\n",
       "<link href=\"https://www.billboard.com/assets/1620152677/images/BB_favicon144.png?41a3123da54599a0d66b\" rel=\"apple-touch-icon\"/>\n",
       "<link href=\"https://www.billboard.com\" rel=\"dns-prefetch\"/>\n",
       "<link href=\"https://www.google-analytics.com/\" rel=\"dns-prefetch\"/>\n",
       "<link href=\"https://www.googletagservices.com/\" rel=\"dns-prefetch\"/>\n",
       "<link href=\"https://www.googletagmanager.com/\" rel=\"dns-prefetch\"/>\n",
       "<link href=\"https://www.instagram.com/\" rel=\"dns-prefetch\"/>\n",
       "<link href=\"https://www.zergnet.com/\" rel=\"dns-prefetch\"/>\n",
       "<link href=\"https://players.brightcove.net/\" rel=\"dns-prefetch\"/>\n",
       "<link href=\"https://platform.zig.com/\" rel=\"dns-prefetch\"/>\n",
       "<link href=\"https://www.googleadservices.com\" rel=\"dns-prefetch\"/>\n",
       "<link href=\"https://c.amazon-adsystem.com/\" rel=\"dns-prefetch\"/>\n",
       "<link href=\"https://securepubads.g.doubleclick.net/\" rel=\"dns-prefetch\"/>\n",
       "<link href=\"https://cdn.krxd.net/\" rel=\"dns-prefetch\"/>\n",
       "<link href=\"https://beacon.krxd.net/\" rel=\"dns-prefetch\"/>\n",
       "<link href=\"https://a.quora.com/\" rel=\"dns-prefetch\"/>\n",
       "<link href=\"https://connect.facebook.net/\" rel=\"dns-prefetch\"/>\n",
       "<link href=\"https://s0.2mdn.net/\" rel=\"dns-prefetch\"/>\n",
       "<link href=\"https://c.amazon-adsystem.com\" rel=\"dns-prefetch\"/>\n",
       "<link href=\"https://sejs.moatads.com/\" rel=\"dns-prefetch\"/>\n",
       "<link href=\"https://mb.moatads.com/\" rel=\"dns-prefetch\"/>\n",
       "<link href=\"https://tags.bluekai.com/\" rel=\"dns-prefetch\"/>\n",
       "<link href=\"https://platform.twitter.com/\" rel=\"dns-prefetch\"/>\n",
       "<link href=\"https://analytics.twitter.com/\" rel=\"dns-prefetch\"/>\n",
       "<link href=\"https://lib.pgmcdn.com\" rel=\"dns-prefetch\"/>\n",
       "<script type=\"text/javascript\">\n",
       "        var PGM = window.PGM || {};\n",
       "    PGM.config = PGM.config || {\n",
       "        assetHost: \"https://www.billboard.com/assets/1620152677\",\n",
       "        contentHost: \"https://www.billboard.com\",\n",
       "        sailthruCustomerId: \"89582e5ca0930701aaa4fbf88e0ff0d4\"\n",
       "    };\n",
       "    (function(PGM) {\n",
       "        var debug_queue = [];\n",
       "        PGM.debug = function() {debug_queue.push(arguments);};\n",
       "        PGM.debug.dump = function() {return debug_queue;}\n",
       "        PGM.debug.initialCategories = {\n",
       "                    };\n",
       "    })(PGM);\n",
       "\n",
       "    PGM.events = (function() {\n",
       "        var events_queue = [];\n",
       "        return {\n",
       "            trigger: function() {events_queue.push(arguments); },\n",
       "            get: function() { return events_queue; }\n",
       "        };\n",
       "    })();\n",
       "\n",
       "    PGM.createScript = (function() {\n",
       "        var q = [], cs = function createScript() { q.push(arguments) };\n",
       "        cs.dump = function() {return q;};\n",
       "        return cs;\n",
       "    })();\n",
       "\n",
       "    PGM.createScriptTag = (function() {\n",
       "        var q = [], cs = function createScriptTag() { q.push(arguments) };\n",
       "        cs.dump = function() {return q;};\n",
       "        return cs;\n",
       "    })();\n",
       "\n",
       "    PGM.resolveOptAnon = (function() {\n",
       "        var q = [], roa = function resolveOptAnon() { q.push(arguments) };\n",
       "        roa.dump = function() {return q;};\n",
       "        return roa;\n",
       "    })();\n",
       "\n",
       "        PGM.tests = [];\n",
       "    PGM.ads = PGM.ads || {};\n",
       "    PGM.ads.adUnit = '/';\n",
       "    PGM.ads.enableDeferredAds = false;\n",
       "    PGM.ads.slots = PGM.ads.slots || {};\n",
       "\n",
       "    PGM.gtmTrackerName = \"\";\n",
       "    //PGM.blockScripts = false;\n",
       "\n",
       "            PGM.mediaQueries = {\n",
       "            small: \"only screen and (max-width: 767px)\",\n",
       "            medium: \"only screen and (min-width: 768px)\",\n",
       "            large: \"only screen and (min-width: 1024px)\"\n",
       "        };\n",
       "    \n",
       "    PGM.greCaptchaSiteKey = \"6Lfc66MUAAAAAA3lW9bTwbc_vy17EsFlueLHQjze\";\n",
       "</script>\n",
       "<script async=\"\" charset=\"UTF-8\" data-domain-script=\"8225fce8-2ced-47b5-b91f-38cc794c4936\" onload=\"PGM.resolveOptAnon();\" src=\"https://cdn.cookielaw.org/scripttemplates/otSDKStub.js\" type=\"text/javascript\"></script>\n",
       "<script type=\"text/javascript\">\n",
       "        function OptanonWrapper() {}\n",
       "    </script>\n",
       "<script type=\"text/javascript\">\n",
       "    window.geofeed = function geofeed(options) {\n",
       "        if (options === undefined || options === null || options.continent === undefined || options.continent === null) return;\n",
       "        const continent = options.continent.toString();\n",
       "        if (continent === 'EU') {\n",
       "            window.PGM.blockScripts = true;\n",
       "        } else {\n",
       "            window.PGM.blockScripts = false;\n",
       "        }\n",
       "    }\n",
       "</script>\n",
       "<script src=\"https://geolocation.onetrust.com/cookieconsentpub/v1/geo/location/geofeed\"></script>\n",
       "<script src=\"https://lib.pgmcdn.com/advertisement.js\"></script>\n",
       "<script async=\"\" data-src=\"https://www.google.com/recaptcha/api.js\" defer=\"\"></script>\n",
       "<script type=\"text/javascript\">\n",
       "</script>\n",
       "<script type=\"text/javascript\">\n",
       "var googletag = googletag || {};\n",
       "googletag.cmd = googletag.cmd || [];\n",
       "\n",
       "var PGM = PGM || {};\n",
       "PGM.ads = PGM.ads || {};\n",
       "PGM.ads.data = null;\n",
       "PGM.ads.slots = PGM.ads.slots || {};\n",
       "PGM.brightcove = {\"account_id\":1125911414,\"default_player\":\"SJeOLIT3Hf\",\"amp_player\":\"iw2jzThx\",\"autoplayers\":[\"HynaCuMbg\",\"S1endnWG9x\",\"HyHqRqMw\",\"SJeOLIT3Hf\"]};\n",
       "\n",
       "window.CLARITY = window.CLARITY || [];\n",
       "\n",
       "CLARITY.push({\n",
       "    use: [\"ads\", \"jquery\"],\n",
       "    run: function(Ads, $){\n",
       "\n",
       "        if( typeof Krux !== 'undefined' ) {\n",
       "            Ads.addKeyVal(\"all\", \"ksg\", Krux.segments);\n",
       "            Ads.addKeyVal(\"all\", \"kuid\", Krux.user);\n",
       "        }\n",
       "\n",
       "        var $embeddedVideos = $('.embedded-content[data-template=\"video\"]');\n",
       "        if($embeddedVideos.length) {\n",
       "            // Wish we could do this in the module but it's too late by then\n",
       "            // for now all embedded videos are autoplay\n",
       "            Ads.addKeyVal(\"all\", \"video\", \"autoplay\");\n",
       "        } else {\n",
       "            // Else check if it's one of our autoplay videos\n",
       "            $('video').each(function () {\n",
       "                var $vid = $(this),\n",
       "                    player = $vid.data('player'),\n",
       "                    account = $vid.data('account');\n",
       "\n",
       "                if (PGM.brightcove.autoplayers.indexOf(player) >= 0) {\n",
       "                    // If there are any auto-play vids stop\n",
       "                    Ads.addKeyVal(\"all\", \"video\", \"autoplay\");\n",
       "                    return false;\n",
       "                } else if (account) {\n",
       "                    Ads.addKeyVal(\"all\", \"video\", \"click-to-play\");\n",
       "                    // if there are click-to-plays there could still be an auto-play somewhere, continue\n",
       "                }\n",
       "            });\n",
       "        }\n",
       "    }\n",
       "});\n",
       "</script>\n",
       "<script type=\"text/javascript\">\n",
       "//TODO: Revisit this - is anything involving pgm/ads still needed?\n",
       "PGM.ads.adUnit = '';\n",
       "</script>\n",
       "<script type=\"text/javascript\">\n",
       "    var _gaq = _gaq || [];\n",
       "    _gaq.push(['_setAccount', 'UA-1266747-9']);\n",
       "    _gaq.push(['_setDomainName', 'billboard.com']);\n",
       "    _gaq.push(['_setAllowLinker', true]);\n",
       "    _gaq.push(['_trackPageview']);\n",
       "\n",
       "</script>\n",
       "<script type=\"text/javascript\">\n",
       "        var dataLayer = dataLayer || [];\n",
       "        dataLayer.push({\n",
       "            'fireGTM': 'on'\n",
       "                                        , 'contentType': 'chart page'\n",
       "                                                , 'category': 'chart'\n",
       "                        \n",
       "        });\n",
       "        dataLayer.push({'gtm.start':new Date().getTime(),event:'gtm.js'});\n",
       "        PGM.createScript('//www.googletagmanager.com/gtm.js?id=GTM-MD3ZLS');\n",
       "    </script>\n",
       "<script>\n",
       "    var _comscore = _comscore || [];\n",
       "    var comscoreVars = {\n",
       "        c1: \"2\"\n",
       "        ,c2: \"7395269\"\n",
       "        ,c3: \"\"\n",
       "        };\n",
       "    _comscore.push(comscoreVars);\n",
       "    </script>\n",
       "<script data-src=\"https://sb.scorecardresearch.com/beacon.js\" type=\"text/javascript\"></script>\n",
       "<noscript>\n",
       "<img src=\"http://b.scorecardresearch.com/p?c1=2&amp;c2=7395269&amp;cv=2.0&amp;cj=1\"/>\n",
       "</noscript>\n",
       "<script type=\"text/javascript\">var _sf_startpt=(new Date()).getTime()</script>\n",
       "<link href=\"https://www.billboard.com/assets/1620152677/css/charts-2.0.css?41a3123da54599a0d66b\" rel=\"stylesheet\" type=\"text/css\"/>\n",
       "<script type=\"text/javascript\">\n",
       "        var BB = BB || {};\n",
       "        BB.config = BB.config || {\n",
       "            contentHost: \"https://www.billboard.com\",\n",
       "            mediaHost: \"https://static.billboard.com/files\",\n",
       "            chartMediaHost: \"https://charts-static.billboard.com\",\n",
       "            keywords: []\n",
       "        };\n",
       "    </script>\n",
       "<script async=\"\" src=\"/cdn-cgi/bm/cv/669835187/api.js\"></script></link></meta></meta></meta></head>"
      ]
     },
     "execution_count": 13,
     "metadata": {},
     "output_type": "execute_result"
    }
   ],
   "source": [
    "soup.title.parent"
   ]
  },
  {
   "cell_type": "code",
   "execution_count": 10,
   "id": "47588891",
   "metadata": {},
   "outputs": [
    {
     "data": {
      "text/plain": [
       "<title>The Hot 100 Chart | Billboard</title>"
      ]
     },
     "execution_count": 10,
     "metadata": {},
     "output_type": "execute_result"
    }
   ],
   "source": [
    "soup.title"
   ]
  },
  {
   "cell_type": "code",
   "execution_count": 12,
   "id": "e025ed35",
   "metadata": {},
   "outputs": [
    {
     "data": {
      "text/plain": [
       "'The Hot 100 Chart | Billboard'"
      ]
     },
     "execution_count": 12,
     "metadata": {},
     "output_type": "execute_result"
    }
   ],
   "source": [
    "soup.title.string"
   ]
  },
  {
   "cell_type": "code",
   "execution_count": 14,
   "id": "b30ef076",
   "metadata": {},
   "outputs": [
    {
     "data": {
      "text/plain": [
       "'head'"
      ]
     },
     "execution_count": 14,
     "metadata": {},
     "output_type": "execute_result"
    }
   ],
   "source": [
    "soup.title.parent.name"
   ]
  },
  {
   "cell_type": "code",
   "execution_count": 36,
   "id": "e525e6a1",
   "metadata": {},
   "outputs": [
    {
     "data": {
      "text/plain": [
       "<a class=\"site-header__brand-link\" href=\"/\">\n",
       "<img alt=\"Billboard\" class=\"site-header__brand-logo\" src=\"https://www.billboard.com/assets/1620152677/images/Billboard-white.svg?41a3123da54599a0d66b\"/>\n",
       "<span class=\"site-header__brand-name\">Billboard</span>\n",
       "</a>"
      ]
     },
     "execution_count": 36,
     "metadata": {},
     "output_type": "execute_result"
    }
   ],
   "source": [
    "soup.a"
   ]
  },
  {
   "cell_type": "code",
   "execution_count": 25,
   "id": "1c0a825a",
   "metadata": {},
   "outputs": [
    {
     "data": {
      "text/plain": [
       "[<a class=\"site-header__brand-link\" href=\"/\">\n",
       " <img alt=\"Billboard\" class=\"site-header__brand-logo\" src=\"https://www.billboard.com/assets/1620152677/images/Billboard-white.svg?41a3123da54599a0d66b\"/>\n",
       " <span class=\"site-header__brand-name\">Billboard</span>\n",
       " </a>,\n",
       " <a class=\"site-header__useraction--user-subscribe-upgrade bb-user-elevate-link subscribe_header\" href=\"https://www.billboard.com/offer\">Subscribe</a>,\n",
       " <a class=\"site-header__useraction--user-signin bb-user-loginout-link signin\" href=\"#\">Sign in</a>,\n",
       " <a class=\"site-header__useraction--user-subscribe-upgrade bb-user-elevate-link upgrade\" href=\"https://www.billboard.com/offer\">Upgrade</a>,\n",
       " <a class=\"bb-user-elevate-link subscribe_header\" href=\"https://www.billboard.com/offer\">Subscribe</a>,\n",
       " <a class=\"bb-user-loginout-link signin\" href=\"#\">Sign in</a>,\n",
       " <a class=\"bb-user-profile-link\" href=\"https://www.billboard.com/myaccount\">My Account</a>,\n",
       " <a class=\"bb-user-loginout-link signout\" href=\"#\">Sign out</a>,\n",
       " <a class=\"site-header__nav-link\" href=\"https://www.billboard.com/charts\">Charts</a>,\n",
       " <a class=\"site-header__subnav-link\" href=\"https://www.billboard.com/charts/hot-100\">Hot 100</a>,\n",
       " <a class=\"site-header__subnav-link\" href=\"https://www.billboard.com/charts/billboard-200\">Billboard 200</a>,\n",
       " <a class=\"site-header__subnav-link\" href=\"https://www.billboard.com/charts/billboard-global-200\">Billboard Global 200</a>,\n",
       " <a class=\"site-header__subnav-link\" href=\"https://www.billboard.com/charts/billboard-global-excl-us/\">Billboard Global Excl. US</a>,\n",
       " <a class=\"site-header__subnav-link\" href=\"https://www.billboard.com/charts/artist-100\">Artist 100</a>,\n",
       " <a class=\"blue-link site-header__subnav-link\" href=\"https://www.billboard.com/charts\">All Weekly Charts</a>,\n",
       " <a class=\"site-header__subnav-link\" href=\"https://www.billboard.com/charts/year-end/hot-100-songs\">Year-End Hot 100 Songs</a>,\n",
       " <a class=\"site-header__subnav-link\" href=\"https://www.billboard.com/charts/year-end/top-billboard-200-albums\">Year-End Billboard 200 Albums</a>,\n",
       " <a class=\"site-header__subnav-link\" href=\"https://www.billboard.com/p/2020-year-end-boxscore-charts\">2020 Year-End Boxscore</a>,\n",
       " <a class=\"site-header__subnav-link\" href=\"https://www.billboard.com/charts/year-end/top-hummed\">Google's Top Hummed Songs 2020</a>,\n",
       " <a class=\"blue-link site-header__subnav-link\" href=\"https://www.billboard.com/charts/year-end\">All Year-End Charts</a>,\n",
       " <a class=\"site-header__subnav-link\" href=\"https://www.billboard.com/charts/decade-end/top-artists\">Decade-End Top Artists</a>,\n",
       " <a class=\"site-header__subnav-link\" href=\"https://www.billboard.com/top-artists-2010s\">Decade-End Top Artists - Interactive</a>,\n",
       " <a class=\"site-header__subnav-link\" href=\"https://www.billboard.com/charts/decade-end/hot-100\">Decade-End Hot 100 Songs</a>,\n",
       " <a class=\"site-header__subnav-link\" href=\"https://www.billboard.com/charts/decade-end/billboard-200\">Decade-End Billboard 200 Albums</a>,\n",
       " <a class=\"blue-link site-header__subnav-link\" href=\"https://www.billboard.com/charts/decade-end\">All Decade-End Charts</a>,\n",
       " <a class=\"site-header__subnav-link\" href=\"https://www.billboard.com/charts/bandsintown-x-billboard-buzzing-livestream-artists\">Buzzing Livestream Artists</a>,\n",
       " <a class=\"site-header__subnav-link\" href=\"https://www.billboard.com/charts/bandsintown-x-billboard-rising-livestream-artists\">Rising Livestream Artists</a>,\n",
       " <a class=\"site-header__subnav-link\" href=\"https://www.billboard.com/charts/bandsintown-x-billboard-top-livestream-artists\">Top Livestream Artists</a>,\n",
       " <a class=\"site-header__nav-link\" href=\"https://www.billboard.com/news\">News</a>,\n",
       " <a class=\"site-header__subnav-link\" href=\"https://www.billboard.com/pop\">Pop</a>,\n",
       " <a class=\"site-header__subnav-link\" href=\"https://www.billboard.com/hip-hop-rap-r-and-b\">Hip-Hop/R&amp;B</a>,\n",
       " <a class=\"site-header__subnav-link\" href=\"https://www.billboard.com/dance\">Dance</a>,\n",
       " <a class=\"site-header__subnav-link\" href=\"https://www.billboard.com/country\">Country</a>,\n",
       " <a class=\"site-header__subnav-link\" href=\"https://www.billboard.com/latin\">Latin</a>,\n",
       " <a class=\"site-header__subnav-link\" href=\"https://www.billboard.com/rock\">Rock</a>,\n",
       " <a class=\"site-header__subnav-link\" href=\"https://www.billboard.com/k-pop\">K-Pop</a>,\n",
       " <a class=\"site-header__subnav-link\" href=\"https://www.billboard.com/hub/year-in-music-2019\">Year In Music 2019</a>,\n",
       " <a class=\"site-header__subnav-link\" href=\"https://www.billboard.com/hub/pride\">Pride</a>,\n",
       " <a class=\"site-header__subnav-link\" href=\"https://www.billboard.com/podcasts\">Podcasts</a>,\n",
       " <a class=\"site-header__subnav-link\" href=\"https://www.billboard.com/hub/international\">International</a>,\n",
       " <a class=\"blue-link site-header__subnav-link\" href=\"https://www.billboard.com/news\">All News</a>,\n",
       " <a class=\"site-header__nav-link\" href=\"https://www.billboard.com/videos\">Video</a>,\n",
       " <a class=\"site-header__subnav-link\" href=\"https://www.billboard.com/series/billboard-news\">Billboard News</a>,\n",
       " <a class=\"site-header__subnav-link\" href=\"https://www.billboard.com/live-videos\">Live Videos</a>,\n",
       " <a class=\"site-header__subnav-link\" href=\"https://www.billboard.com/series/quizzed\">Quizzed</a>,\n",
       " <a class=\"site-header__subnav-link\" href=\"https://www.billboard.com/series/how-it-went-down\">How It Went Down</a>,\n",
       " <a class=\"site-header__subnav-link\" href=\"https://www.billboard.com/series/you-should-know\">Emerging Artists: You Should Know</a>,\n",
       " <a class=\"site-header__subnav-link\" href=\"https://www.billboard.com/series/my-billboard-moment\">My Billboard Moment</a>,\n",
       " <a class=\"blue-link site-header__subnav-link\" href=\"https://www.billboard.com/videos\">All Videos</a>,\n",
       " <a class=\"site-header__nav-link\" href=\"https://www.billboard.com/photos\">Photos</a>,\n",
       " <a class=\"site-header__nav-link\" href=\"https://www.billboard.com/business\">Pro</a>,\n",
       " <a class=\"site-header__subnav-link\" href=\"https://www.billboard.com/legal-and-management\">Legal and Management</a>,\n",
       " <a class=\"site-header__subnav-link\" href=\"https://www.billboard.com/executive-turntable\">Executive Turntable</a>,\n",
       " <a class=\"site-header__subnav-link\" href=\"https://www.billboard.com/touring\">Touring</a>,\n",
       " <a class=\"site-header__subnav-link\" href=\"https://www.billboard.com/record-labels\">Record Labels</a>,\n",
       " <a class=\"site-header__subnav-link\" href=\"https://www.billboard.com/streaming\">Streaming</a>,\n",
       " <a class=\"site-header__subnav-link\" href=\"https://www.billboard.com/tech\">Tech</a>,\n",
       " <a class=\"site-header__subnav-link\" href=\"https://www.billboard.com/publishing\">Publishing</a>,\n",
       " <a class=\"site-header__subnav-link\" href=\"https://www.billboard.com/radio\">Radio</a>,\n",
       " <a class=\"blue-link site-header__subnav-link\" href=\"https://www.billboard.com/business\">All Industry News</a>,\n",
       " <a class=\"site-header__subnav-link\" href=\"https://www.billboard.com/hub/insights\">Insights</a>,\n",
       " <a class=\"site-header__subnav-link\" href=\"https://www.billboard.com/deep-dive\">Deep Dive</a>,\n",
       " <a class=\"site-header__subnav-link\" href=\"https://www.billboard.com/deep-dive/songs-for-sale\">- Songs For Sale</a>,\n",
       " <a class=\"site-header__subnav-link\" href=\"https://www.billboard.com/deep-dive/music-on-tv-what-works-now\">- Music On TV: What Works Now</a>,\n",
       " <a class=\"site-header__subnav-link\" href=\"https://www.billboard.com/close-calls\">Close Calls</a>,\n",
       " <a class=\"site-header__subnav-link\" href=\"https://www.billboard.com/charts/search\">Chart Search</a>,\n",
       " <a class=\"site-header__subnav-link\" href=\"https://www.billboard.com/charts/current-boxscore\">Boxscore</a>,\n",
       " <a class=\"site-header__subnav-link\" href=\"https://www.billboard.com/p/billboard-bulletin/display\">Billboard Bulletin</a>,\n",
       " <a class=\"site-header__subnav-link\" href=\"https://www.billboard.com/p/artist-index\">Artist index</a>,\n",
       " <a class=\"site-header__subnav-link\" href=\"https://www.billboard.com/p/song-index\">Song Index</a>,\n",
       " <a class=\"site-header__subnav-link\" href=\"https://www.billboard.com/charts/pop-songs\">Pop Songs</a>,\n",
       " <a class=\"site-header__subnav-link\" href=\"https://www.billboard.com/charts/r-b-hip-hop-songs\">Hot R&amp;B / Hip-Hop Songs</a>,\n",
       " <a class=\"site-header__subnav-link\" href=\"https://www.billboard.com/charts/country-songs\">Hot Country Songs</a>,\n",
       " <a class=\"site-header__subnav-link\" href=\"https://www.billboard.com/p/songwriters-producers\">Songwriters &amp; Producers</a>,\n",
       " <a class=\"blue-link site-header__subnav-link\" href=\"https://www.billboard.com/charts\">View All Pro Charts</a>,\n",
       " <a class=\"site-header__nav-link\" href=\"https://www.billboard.com/newsletter/preferences\">Newsletters</a>,\n",
       " <a class=\"bb-user-elevate-link\" href=\"https://www.billboard.com/offer\">Subscribe</a>,\n",
       " <a class=\"bb-user-loginout-link\" href=\"#\">Sign in</a>,\n",
       " <a class=\"bb-user-profile-link\" href=\"https://www.billboard.com/myaccount\">View Profile</a>,\n",
       " <a class=\"bb-user-elevate-link\" href=\"https://www.billboard.com/offer\">Upgrade</a>,\n",
       " <a href=\"https://www.facebook.com/Billboard/\"><i class=\"fa fa-facebook\"></i></a>,\n",
       " <a href=\"https://www.twitter.com/billboard/\"><i class=\"fa fa-twitter\"></i></a>,\n",
       " <a href=\"https://www.instagram.com/billboard/\"><i class=\"fa fa-instagram\"></i></a>,\n",
       " <a href=\"https://www.youtube.com/channel/UCsVcseUYbYjldc-XgcsiEbg\"><i class=\"fa fa-youtube\"></i></a>,\n",
       " <a class=\"copyright__link\" href=\"https://pmc.com/terms-of-use/\" target=\"_blank\">Terms of Use</a>,\n",
       " <a class=\"copyright__link\" href=\"https://pmc.com/privacy-policy/\" target=\"_blank\">Privacy Policy</a>,\n",
       " <a class=\"copyright__link\" href=\"https://optout.aboutads.info/?c=2&amp;lang=EN\" target=\"_blank\">AdChoices</a>,\n",
       " <a class=\"copyright__link copyright__link--contrast\" href=\"https://www.billboard.com/advertising\" target=\"_blank\">Advertising</a>,\n",
       " <a class=\"copyright__link\" href=\"https://pmc.com/privacy-policy/#california\" target=\"_blank\">California Privacy Rights</a>,\n",
       " <a class=\"copyright__link\" href=\"https://www.pmc.com/opt-out\" target=\"_blank\">Do Not Sell My Personal Information</a>,\n",
       " <a class=\"charts__header__action\" href=\"/charts\" title=\"Go to Charts\">\n",
       " <span class=\"fa fa-arrow-left\"></span>\n",
       " </a>,\n",
       " <a class=\"charts__header__nav__link\" href=\"/charts/billboard-200\">Billboard 200</a>,\n",
       " <a class=\"charts__header__nav__link\" href=\"/charts/artist-100\">Artist 100</a>,\n",
       " <a class=\"charts__header__nav__link\" href=\"/charts/r-b-hip-hop-songs\">Hip-Hop/R&amp;B Songs</a>,\n",
       " <a class=\"charts__header__nav__link\" href=\"/charts/country-songs\">Country Songs</a>,\n",
       " <a href=\"/offer\" id=\"image_footer\">\n",
       " <img alt=\"Subscribe to Billboard\" class=\"\" data-src=\"https://static.billboard.com/files/2021/04/bb5-cover-billboard-1500-1618350652-220x286.jpg\" data-srcset=\"https://static.billboard.com/files/2021/04/bb5-cover-billboard-1500-1618350652-220x286.jpg?1 220w, https://static.billboard.com/files/2021/04/bb5-cover-billboard-1500-1618350652-440x572.jpg?1 440w, https://static.billboard.com/files/2021/04/bb5-cover-billboard-1500-1618350652-900x1170.jpg?1 900w\" src=\"data:image/png;base64,iVBORw0KGgoAAAANSUhEUgAAAAEAAAABCAYAAAAfFcSJAAAADUlEQVR42mNkYPhfDwAChwGA60e6kgAAAABJRU5ErkJggg==\"/>\n",
       " </a>,\n",
       " <a class=\"site-footer__link\" href=\"https://subscribe.billboard.com/sub/?p=BBL&amp;f=landing\" title=\"Customer Service\">Customer Service</a>,\n",
       " <a class=\"site-footer__link\" href=\"/offer\" id=\"subscribe_footer\" title=\"Subscribe\">Subscribe</a>,\n",
       " <a class=\"site-footer__link\" href=\"http://shop.billboard.com/\" title=\"Buy this issue\">Buy this issue</a>,\n",
       " <a class=\"fb site-footer__link\" href=\"http://www.facebook.com/Billboard\">Facebook</a>,\n",
       " <a class=\"tw site-footer__link\" href=\"https://twitter.com/billboard\">Twitter</a>,\n",
       " <a class=\"yt site-footer__link\" href=\"http://youtube.com/billboard\">YouTube</a>,\n",
       " <a class=\"ig site-footer__link\" href=\"http://instagram.com/billboard\">Instagram</a>,\n",
       " <a class=\"tb site-footer__link\" href=\"http://billboard.tumblr.com/\">Tumblr</a>,\n",
       " <a class=\"pi site-footer__link\" href=\"http://pinterest.com/billboard\">Pinterest</a>,\n",
       " <a class=\"sp site-footer__link\" href=\"https://open.spotify.com/user/billboard.com/playlist/6UeSakyzhiEt4NB3UAd6NQ?si=DmcjQeieS42SKYmpWjvfwg\">Spotify</a>,\n",
       " <a class=\"nsl com site-footer__link\" href=\"https://www.billboard.com/newsletter/preferences\">Newsletter</a>,\n",
       " <a class=\"site-footer__link\" href=\"https://www.billboard.store/\">Shop</a>,\n",
       " <a class=\"site-footer__link\" href=\"https://shop.billboard.com/collections/back-issues\">Magazine Archive</a>,\n",
       " <a class=\"site-footer__link\" href=\"http://valencemedia.applytojob.com/\">Jobs</a>,\n",
       " <a class=\"site-footer__link\" href=\"http://www.billboardevents.com/\">Billboard Events</a>,\n",
       " <a class=\"site-footer__link\" href=\"https://www.billboard.com/articles/news/468196/contact-us\">Contact Us</a>,\n",
       " <a class=\"site-footer__link\" href=\"https://www.billboard.com/p/sitemap\">Sitemap</a>,\n",
       " <a class=\"site-footer__link\" href=\"https://www.billboard.com/p/frequently-asked-questions\">FAQ</a>,\n",
       " <a class=\"site-footer__link\" href=\"https://docs.google.com/spreadsheet/viewform?formkey=dDZ1RmJPWndBRmc0cThUOEMwMXhLMXc6MQ#gid=0\">Feedback</a>,\n",
       " <a class=\"site-footer__link\" href=\"/\">Billboard</a>,\n",
       " <a class=\"site-footer__link thr\" href=\"http://www.hollywoodreporter.com/\" target=\"_blank\" title=\"The Hollywood Reporter\"></a>,\n",
       " <a class=\"site-footer__link vibe\" href=\"http://www.vibe.com/\" target=\"_blank\" title=\"Vibe.com\"></a>,\n",
       " <a class=\"copyright__link\" href=\"https://pmc.com/terms-of-use/\" target=\"_blank\">Terms of Use</a>,\n",
       " <a class=\"copyright__link\" href=\"https://pmc.com/privacy-policy/\" target=\"_blank\">Privacy Policy</a>,\n",
       " <a class=\"copyright__link\" href=\"https://optout.aboutads.info/?c=2&amp;lang=EN\" target=\"_blank\">AdChoices</a>,\n",
       " <a class=\"copyright__link\" href=\"http://www.billboard.com/advertising\" target=\"_blank\">Advertising</a>,\n",
       " <a class=\"copyright__link\" href=\"https://pmc.com/privacy-policy/#california\" id=\"california_privacy_rights_link\" target=\"_blank\">California Privacy Rights</a>,\n",
       " <a class=\"copyright__link\" href=\"https://www.pmc.com/opt-out\" id=\"do_not_sell_my_personal_information_link\" target=\"_blank\">Do Not Sell My Personal Information</a>,\n",
       " <a class=\"copyright__link\" href=\"#\" id=\"eu_privacy_preferences_link\" target=\"_blank\">EU Privacy Preferences</a>]"
      ]
     },
     "execution_count": 25,
     "metadata": {},
     "output_type": "execute_result"
    }
   ],
   "source": [
    "soup.find_all('a')"
   ]
  },
  {
   "cell_type": "markdown",
   "id": "43bc2afa",
   "metadata": {},
   "source": [
    "### Experimenting with accessing data"
   ]
  },
  {
   "cell_type": "code",
   "execution_count": null,
   "id": "5b99bbd4",
   "metadata": {},
   "outputs": [],
   "source": [
    "#charts > div > div.chart-list__wrapper > div > ol > li:nth-child(1)#element = soup.select(\"#charts > div > div.chart-list__wrapper > div > ol\")\n",
    "#.chart-list__elements\n",
    "\n",
    "#soup.find_all(id='link2')\n",
    "#element = soup.select(\"#charts > div > div\")[6]\n",
    "#print(element)\n",
    "\n",
    "#soup2 = BeautifulSoup(element)\n",
    "#main.find_all(\"div\", class_=\"header\")\n",
    "##charts > div > div.chart-list__wrapper > div > ol > li:nth-child(1) > button > span.chart-element__information > span.chart-element__information__song.text--truncate.color--primary\n",
    "\n",
    "chartList = soup.find('ol', class_=\"chart-list__elements\")\n",
    "\n",
    "elementList = chartList.find_all('li', class_=\"chart-list__element display--flex\")\n",
    "\n",
    "for element in elementList:\n",
    "    print(tag)\n",
    "\n",
    "                      \n",
    "                      "
   ]
  },
  {
   "cell_type": "code",
   "execution_count": null,
   "id": "f43d5b7c",
   "metadata": {},
   "outputs": [],
   "source": [
    "for header in chartList:\n",
    "        yield (header, list(get_content(header.nextSibling)))\n",
    "\n",
    "def get_content(element):\n",
    "    while element.name == 'span':\n",
    "        yield element\n",
    "        element = element.nextSibling"
   ]
  },
  {
   "cell_type": "code",
   "execution_count": null,
   "id": "e63c3881",
   "metadata": {},
   "outputs": [],
   "source": [
    "#charts > div > div.chart-list__wrapper > div > ol\n",
    "element = soup.select(\"#charts > div > div\")[6]\n",
    "\n",
    "#print(element)\n",
    "element2 = element.contents\n",
    "\n",
    "\n",
    "for child in element2:\n",
    "    print(child)\n",
    "    \n",
    "\n",
    "#print(element2)\n",
    "#nextpath = soup.select()\n",
    "##charts > div > div.chart-list__wrapper > div > ol\n",
    "\n",
    "#//*[@id=\"charts\"]/div/div[7]/div/ol\n",
    "\n"
   ]
  },
  {
   "cell_type": "code",
   "execution_count": null,
   "id": "3ea8d862",
   "metadata": {},
   "outputs": [],
   "source": [
    "#charts > div > div.charts-hero > div > h1 > img"
   ]
  },
  {
   "cell_type": "code",
   "execution_count": null,
   "id": "38bb3b2d",
   "metadata": {},
   "outputs": [],
   "source": [
    "targetPath1 = soup.select(\"html>body>main>div>div>div\")\n",
    "targetPath2 = targetPath1[6]\n",
    "print(targetPath2)\n",
    "\n",
    "# full Xpath\n",
    "#/html/body/main/div/div/div[7]/div/ol\n",
    "# Xpath\n",
    "#//*[@id=\"charts\"]/div/div[7]/div/ol"
   ]
  },
  {
   "cell_type": "code",
   "execution_count": null,
   "id": "2e76dc97",
   "metadata": {},
   "outputs": [],
   "source": []
  }
 ],
 "metadata": {
  "kernelspec": {
   "display_name": "Python 3",
   "language": "python",
   "name": "python3"
  },
  "language_info": {
   "codemirror_mode": {
    "name": "ipython",
    "version": 3
   },
   "file_extension": ".py",
   "mimetype": "text/x-python",
   "name": "python",
   "nbconvert_exporter": "python",
   "pygments_lexer": "ipython3",
   "version": "3.9.2"
  }
 },
 "nbformat": 4,
 "nbformat_minor": 5
}
